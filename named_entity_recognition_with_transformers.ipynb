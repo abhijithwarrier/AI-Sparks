{
 "cells": [
  {
   "cell_type": "markdown",
   "id": "44bc0f7e06b46139",
   "metadata": {
    "collapsed": true,
    "jupyter": {
     "outputs_hidden": true
    }
   },
   "source": [
    "**Programmer:** python_scripts (Abhijith Warrier)\n",
    "\n",
    "**PYTHON SCRIPT TO _PERFORM NAMED ENTITY RECOGNITION (NER) USING HUGGING FACE TRANSFORMERS._** 🐍🤖🔎\n",
    "\n",
    "This script demonstrates how to use a **pretrained transformer model** (`dslim/bert-base-NER`) from Hugging Face to detect entities like **people, locations, organizations, and dates** directly from text."
   ]
  },
  {
   "cell_type": "markdown",
   "id": "cec6bcc22f56735",
   "metadata": {},
   "source": [
    "### 📦 Install Required Library\n",
    "\n",
    "We’ll use Hugging Face’s transformers pipeline."
   ]
  },
  {
   "cell_type": "code",
   "execution_count": null,
   "id": "6ec6ecde7d9e9162",
   "metadata": {},
   "outputs": [],
   "source": [
    "# Install Hugging Face Transformers\n",
    "# !pip install transformers --quiet"
   ]
  },
  {
   "cell_type": "markdown",
   "id": "a576afc6d0a2230e",
   "metadata": {},
   "source": [
    "### 🧰 Import the NER Pipeline\n",
    "\n",
    "We load the Named Entity Recognition pipeline and specify a pretrained model."
   ]
  },
  {
   "cell_type": "code",
   "execution_count": 1,
   "id": "7093b0149f5b6b61",
   "metadata": {
    "ExecuteTime": {
     "end_time": "2025-09-11T17:36:06.384590Z",
     "start_time": "2025-09-11T17:34:21.846178Z"
    }
   },
   "outputs": [
    {
     "name": "stderr",
     "output_type": "stream",
     "text": [
      "Some weights of the model checkpoint at dslim/bert-base-NER were not used when initializing BertForTokenClassification: ['bert.pooler.dense.bias', 'bert.pooler.dense.weight']\n",
      "- This IS expected if you are initializing BertForTokenClassification from the checkpoint of a model trained on another task or with another architecture (e.g. initializing a BertForSequenceClassification model from a BertForPreTraining model).\n",
      "- This IS NOT expected if you are initializing BertForTokenClassification from the checkpoint of a model that you expect to be exactly identical (initializing a BertForSequenceClassification model from a BertForSequenceClassification model).\n",
      "Device set to use mps:0\n"
     ]
    }
   ],
   "source": [
    "from transformers import pipeline\n",
    "\n",
    "# Load NER pipeline with pretrained BERT model\n",
    "ner = pipeline(\"ner\", model=\"dslim/bert-base-NER\", aggregation_strategy=\"simple\")"
   ]
  },
  {
   "cell_type": "markdown",
   "id": "9248090cc68bb389",
   "metadata": {},
   "source": [
    "### 📝 Provide Sample Text\n",
    "\n",
    "We’ll analyze a short text that includes names, organizations, and locations."
   ]
  },
  {
   "cell_type": "code",
   "execution_count": 2,
   "id": "58ae90730eafb815",
   "metadata": {
    "ExecuteTime": {
     "end_time": "2025-09-11T17:36:15.038298Z",
     "start_time": "2025-09-11T17:36:15.034407Z"
    }
   },
   "outputs": [],
   "source": [
    "text = \"Apple is looking to hire AI engineers in San Francisco starting in 2025. Tim Cook announced the plan.\""
   ]
  },
  {
   "cell_type": "markdown",
   "id": "5abdadd04f2b748",
   "metadata": {},
   "source": [
    "### 🚀 Run Named Entity Recognition\n",
    "\n",
    "The pipeline detects and groups named entities."
   ]
  },
  {
   "cell_type": "code",
   "execution_count": 3,
   "id": "9a080b345a0bdef",
   "metadata": {
    "ExecuteTime": {
     "end_time": "2025-09-11T17:36:18.228458Z",
     "start_time": "2025-09-11T17:36:17.664157Z"
    }
   },
   "outputs": [
    {
     "name": "stdout",
     "output_type": "stream",
     "text": [
      "Apple → ORG (score: 1.00)\n",
      "AI → MISC (score: 0.77)\n",
      "San Francisco → LOC (score: 1.00)\n",
      "Tim Cook → PER (score: 1.00)\n"
     ]
    }
   ],
   "source": [
    "# Run NER\n",
    "entities = ner(text)\n",
    "\n",
    "# Display results\n",
    "for ent in entities:\n",
    "    print(f\"{ent['word']} → {ent['entity_group']} (score: {ent['score']:.2f})\")"
   ]
  },
  {
   "cell_type": "markdown",
   "id": "3649bcdf4e071014",
   "metadata": {},
   "source": []
  }
 ],
 "metadata": {
  "kernelspec": {
   "display_name": "Python 3 (ipykernel)",
   "language": "python",
   "name": "python3"
  },
  "language_info": {
   "codemirror_mode": {
    "name": "ipython",
    "version": 3
   },
   "file_extension": ".py",
   "mimetype": "text/x-python",
   "name": "python",
   "nbconvert_exporter": "python",
   "pygments_lexer": "ipython3",
   "version": "3.11.9"
  }
 },
 "nbformat": 4,
 "nbformat_minor": 5
}
