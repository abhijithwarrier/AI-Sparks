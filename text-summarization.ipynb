{
 "cells": [
  {
   "cell_type": "markdown",
   "id": "e66f839c29e07385",
   "metadata": {},
   "source": [
    "**Programmer:** python_scripts (Abhijith Warrier)\n",
    "\n",
    "**PYTHON SCRIPT TO DEMONSTRATE **_TEXT SUMMARIZATION USING HUGGING FACE TRANSFORMERS_**. 🐍📊🤖**\n",
    "\n",
    "This script demonstrates how to summarize long text using **Hugging Face's Transformers** library.\n",
    "We’ll use the **Bart model** (`facebook/bart-large-cnn`), which is pre-trained for text summarization.\n",
    "\n",
    "---\n",
    "\n",
    "### **Why Text Summarization?**\n",
    "- Quickly condenses long text into a concise summary\n",
    "- Useful for news, research papers, and blogs\n",
    "- Saves time while retaining essential information"
   ]
  },
  {
   "cell_type": "markdown",
   "id": "df8ceb68a841fab1",
   "metadata": {},
   "source": [
    "### 📦 Install and Import Required Libraries\n",
    "We need Hugging Face's `transformers` library for text summarization."
   ]
  },
  {
   "cell_type": "code",
   "execution_count": 1,
   "id": "28d7db45d234649f",
   "metadata": {
    "ExecuteTime": {
     "end_time": "2025-07-31T05:43:43.103483Z",
     "start_time": "2025-07-31T05:43:43.097804Z"
    }
   },
   "outputs": [],
   "source": [
    "# Install (uncomment if not already installed)\n",
    "# !pip install transformers\n",
    "\n",
    "from transformers import pipeline"
   ]
  },
  {
   "cell_type": "markdown",
   "id": "160781b7f8033d4b",
   "metadata": {},
   "source": [
    "### ⚙️ Initialize Summarization Pipeline\n",
    "We’ll use a pre-trained summarization model from Hugging Face."
   ]
  },
  {
   "cell_type": "code",
   "execution_count": 2,
   "id": "2506d490f190b8a6",
   "metadata": {
    "ExecuteTime": {
     "end_time": "2025-07-31T05:43:49.370449Z",
     "start_time": "2025-07-31T05:43:46.074275Z"
    }
   },
   "outputs": [
    {
     "name": "stderr",
     "output_type": "stream",
     "text": [
      "Device set to use mps:0\n"
     ]
    }
   ],
   "source": [
    "# Initialize the summarization pipeline\n",
    "summarizer = pipeline(\"summarization\", model=\"facebook/bart-large-cnn\")"
   ]
  },
  {
   "cell_type": "markdown",
   "id": "8be39606031389a3",
   "metadata": {},
   "source": [
    "### 📝 Input Long Text for Summarization\n",
    "We'll use a sample paragraph. You can replace this with any long text."
   ]
  },
  {
   "cell_type": "code",
   "execution_count": 3,
   "id": "1b5b63c204fab94f",
   "metadata": {
    "ExecuteTime": {
     "end_time": "2025-07-31T05:43:51.819415Z",
     "start_time": "2025-07-31T05:43:51.815762Z"
    }
   },
   "outputs": [],
   "source": [
    "# Sample text (replace with any article or paragraph)\n",
    "text = \"\"\"\n",
    "Artificial Intelligence (AI) is transforming industries by automating processes,\n",
    "improving decision-making, and enhancing customer experiences.\n",
    "From healthcare and finance to entertainment and education,\n",
    "AI applications are expanding rapidly.\n",
    "As organizations integrate AI into their workflows,\n",
    "ethical concerns and workforce impacts are becoming significant topics of discussion.\n",
    "Despite these challenges, the future of AI holds immense promise\n",
    "in solving complex problems and driving innovation globally.\n",
    "\"\"\""
   ]
  },
  {
   "cell_type": "markdown",
   "id": "cf2e6bc2ea118bea",
   "metadata": {},
   "source": [
    "### 🔍 Perform Summarization\n",
    "Use the summarizer to get a concise summary of the input text."
   ]
  },
  {
   "cell_type": "code",
   "execution_count": 4,
   "id": "ebde8b80e537c431",
   "metadata": {
    "ExecuteTime": {
     "end_time": "2025-07-31T05:43:55.997149Z",
     "start_time": "2025-07-31T05:43:54.143499Z"
    }
   },
   "outputs": [
    {
     "name": "stdout",
     "output_type": "stream",
     "text": [
      "Summary: Artificial Intelligence (AI) is transforming industries by automating processes and enhancing customer experiences. From healthcare and finance to entertainment and education, AI applications are expanding rapidly.\n"
     ]
    }
   ],
   "source": [
    "# Perform summarization\n",
    "summary = summarizer(text, max_length=60, min_length=25, do_sample=False)\n",
    "\n",
    "# Display summary\n",
    "print(\"Summary:\", summary[0]['summary_text'])"
   ]
  },
  {
   "cell_type": "markdown",
   "id": "e47b6a64b3c6989c",
   "metadata": {},
   "source": [
    "> **Note:**\n",
    "The model may take time to download during the first run (~1.6GB).\n",
    "Subsequent runs will be faster as it uses the cached model."
   ]
  },
  {
   "cell_type": "code",
   "execution_count": null,
   "id": "db817b78-fda3-44e1-aafa-33e56aa9c213",
   "metadata": {},
   "outputs": [],
   "source": []
  }
 ],
 "metadata": {
  "kernelspec": {
   "display_name": "Python 3 (ipykernel)",
   "language": "python",
   "name": "python3"
  },
  "language_info": {
   "codemirror_mode": {
    "name": "ipython",
    "version": 3
   },
   "file_extension": ".py",
   "mimetype": "text/x-python",
   "name": "python",
   "nbconvert_exporter": "python",
   "pygments_lexer": "ipython3",
   "version": "3.13.5"
  }
 },
 "nbformat": 4,
 "nbformat_minor": 5
}
