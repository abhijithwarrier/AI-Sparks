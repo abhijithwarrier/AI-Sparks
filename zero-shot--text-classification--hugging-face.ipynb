{
 "cells": [
  {
   "cell_type": "markdown",
   "id": "7ab77d6990a9bad3",
   "metadata": {
    "collapsed": true,
    "jupyter": {
     "outputs_hidden": true
    }
   },
   "source": [
    "**Programmer:** python_scripts (Abhijith Warrier)\n",
    "\n",
    "**PYTHON SCRIPT TO _RUN ZERO-SHOT TEXT CLASSIFICATION WITH HUGGING FACE (NO TRAINING, NO API KEY)_**. 🐍🧠🏷️\n",
    "\n",
    "This script shows how to classify text into custom categories without training a model using the zero-shot-classification pipeline (model: `facebook/bart-large-mnli`). Great for quick tagging, routing, or triaging content."
   ]
  },
  {
   "cell_type": "markdown",
   "id": "d10494f073dfac06",
   "metadata": {},
   "source": [
    "### 📦 Install Required Libraries\n",
    "\n",
    "We’ll use Hugging Face transformers (PyTorch backend). No API key needed."
   ]
  },
  {
   "cell_type": "code",
   "execution_count": null,
   "id": "a03a64d1a811d2fa",
   "metadata": {},
   "outputs": [],
   "source": [
    "# Install Transformers (and PyTorch CPU if needed)\n",
    "# If you already have them, skip this cell.\n",
    "!pip install transformers torch --quiet"
   ]
  },
  {
   "cell_type": "markdown",
   "id": "c33cfa2429b959e",
   "metadata": {},
   "source": [
    "### 🧰 Import & Initialize the Zero-Shot Pipeline\n",
    "\n",
    "Load the zero-shot-classification pipeline with an MNLI model."
   ]
  },
  {
   "cell_type": "code",
   "execution_count": 1,
   "id": "1ae1f40fc4e0edc9",
   "metadata": {},
   "outputs": [
    {
     "name": "stderr",
     "output_type": "stream",
     "text": [
      "Device set to use mps:0\n"
     ]
    }
   ],
   "source": [
    "# Import pipeline utility\n",
    "from transformers import pipeline\n",
    "\n",
    "# Create zero-shot classifier (MNLI-based)\n",
    "classifier = pipeline(\"zero-shot-classification\", model=\"facebook/bart-large-mnli\")"
   ]
  },
  {
   "cell_type": "markdown",
   "id": "50daa724194613fe",
   "metadata": {},
   "source": [
    "### ✍️ Define Input Text & Candidate Labels\n",
    "\n",
    "Provide the text to classify and the label set you care about."
   ]
  },
  {
   "cell_type": "code",
   "execution_count": 2,
   "id": "cd3aa8f2d481f740",
   "metadata": {},
   "outputs": [],
   "source": [
    "# Text we want to classify\n",
    "text = \"I loved the cinematography, but the plot was too slow and predictable.\"\n",
    "\n",
    "# Candidate labels can be anything you choose\n",
    "candidate_labels = [\"positive\", \"negative\", \"story\", \"acting\", \"cinematography\", \"soundtrack\"]"
   ]
  },
  {
   "cell_type": "markdown",
   "id": "2f1b4c3c92f5fab4",
   "metadata": {},
   "source": [
    "### 🚀 Run Zero-Shot Classification (Single-Label)\n",
    "\n",
    "By default, the model assumes the text belongs to one of the labels."
   ]
  },
  {
   "cell_type": "code",
   "execution_count": 3,
   "id": "24167bb31c08d41d",
   "metadata": {},
   "outputs": [
    {
     "name": "stdout",
     "output_type": "stream",
     "text": [
      "Single-label result (top label): cinematography | score: 0.6981\n",
      "\n",
      "All labels ranked:\n",
      "cinematography  -> 0.6981\n",
      "negative        -> 0.1477\n",
      "story           -> 0.1283\n",
      "positive        -> 0.0189\n",
      "acting          -> 0.0038\n",
      "soundtrack      -> 0.0031\n"
     ]
    }
   ],
   "source": [
    "# Single-label classification (default)\n",
    "result = classifier(text, candidate_labels)\n",
    "print(\"Single-label result (top label):\", result[\"labels\"][0], \"| score:\", round(result[\"scores\"][0], 4))\n",
    "\n",
    "# Optional: view all labels with scores (sorted by confidence)\n",
    "print(\"\\nAll labels ranked:\")\n",
    "for lbl, sc in zip(result[\"labels\"], result[\"scores\"]):\n",
    "    print(f\"{lbl:15s} -> {sc:.4f}\")"
   ]
  },
  {
   "cell_type": "markdown",
   "id": "9632c2636fba68a0",
   "metadata": {},
   "source": [
    "### 🔁 Multi-Label Classification (Allow Multiple True Labels)\n",
    "\n",
    "Set multi_label=True when multiple labels may apply simultaneously."
   ]
  },
  {
   "cell_type": "code",
   "execution_count": 4,
   "id": "8b958218b5a95648",
   "metadata": {},
   "outputs": [
    {
     "name": "stdout",
     "output_type": "stream",
     "text": [
      "\n",
      "Multi-label results (labels with scores ≥ 0.5):\n",
      "cinematography  -> 0.9891\n",
      "story           -> 0.7456\n",
      "negative        -> 0.6543\n"
     ]
    }
   ],
   "source": [
    "# Multi-label classification (multiple labels can be correct)\n",
    "result_multi = classifier(text, candidate_labels, multi_label=True)\n",
    "\n",
    "print(\"\\nMulti-label results (labels with scores ≥ 0.5):\")\n",
    "for lbl, sc in zip(result_multi[\"labels\"], result_multi[\"scores\"]):\n",
    "    if sc >= 0.5:\n",
    "        print(f\"{lbl:15s} -> {sc:.4f}\")"
   ]
  },
  {
   "cell_type": "markdown",
   "id": "355395bf439adab7",
   "metadata": {},
   "source": [
    "### 🧪 Batch Classify Multiple Texts (Optional)\n",
    "\n",
    "Classify a list of texts in one go (useful for routing/triage)."
   ]
  },
  {
   "cell_type": "code",
   "execution_count": 5,
   "id": "a561dc846bd40532",
   "metadata": {},
   "outputs": [
    {
     "name": "stdout",
     "output_type": "stream",
     "text": [
      "\n",
      "Batch classification (first item shown):\n",
      "{'sequence': 'The battery life is amazing, but the camera is mediocre.', 'labels': ['negative', 'story', 'positive', 'acting', 'cinematography', 'soundtrack'], 'scores': [0.2089921534061432, 0.1545064002275467, 0.14663568139076233, 0.009726528078317642, 0.004912347067147493, 0.0012397138634696603]}\n"
     ]
    }
   ],
   "source": [
    "texts = [\n",
    "    \"The battery life is amazing, but the camera is mediocre.\",\n",
    "    \"Support was unhelpful. I’m really disappointed.\",\n",
    "    \"This album’s production quality is superb!\",\n",
    "]\n",
    "\n",
    "batch = classifier(texts, candidate_labels, multi_label=True)\n",
    "print(\"\\nBatch classification (first item shown):\")\n",
    "print(batch[0])"
   ]
  },
  {
   "cell_type": "markdown",
   "id": "ed9ea010f5688519",
   "metadata": {},
   "source": []
  }
 ],
 "metadata": {
  "kernelspec": {
   "display_name": "Python 3 (ipykernel)",
   "language": "python",
   "name": "python3"
  },
  "language_info": {
   "codemirror_mode": {
    "name": "ipython",
    "version": 3
   },
   "file_extension": ".py",
   "mimetype": "text/x-python",
   "name": "python",
   "nbconvert_exporter": "python",
   "pygments_lexer": "ipython3",
   "version": "3.11.9"
  }
 },
 "nbformat": 4,
 "nbformat_minor": 5
}
