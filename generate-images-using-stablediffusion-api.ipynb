{
 "cells": [
  {
   "metadata": {
    "collapsed": true
   },
   "cell_type": "markdown",
   "source": [
    "**Programmer:** python_scripts (Abhijith Warrier)\n",
    "\n",
    "**PYTHON SCRIPT TO _GENERATE IMAGES USING STABLE DIFFUSION (STABILITY AI API)._**. 🐍🎨🖼️\n",
    "\n",
    "This script shows how to call the **Stability AI (Stable Diffusion)** Text-to-Image REST API from Python. You’ll set an API key, send a prompt, download the generated PNG, and preview it (passport-size) in your notebook."
   ],
   "id": "64503426794573e4"
  },
  {
   "metadata": {},
   "cell_type": "markdown",
   "source": [
    "### 📦 Install & Setup\n",
    "\n",
    "We’ll use requests to call the API and Pillow/matplotlib to preview the image."
   ],
   "id": "fc2f206cd21586b5"
  },
  {
   "metadata": {},
   "cell_type": "code",
   "outputs": [],
   "execution_count": null,
   "source": [
    "# Install dependencies (run in a notebook cell)\n",
    "# !pip install requests pillow matplotlib"
   ],
   "id": "700261e13022337e"
  },
  {
   "metadata": {},
   "cell_type": "markdown",
   "source": [
    "### 🔐 Configure Your API Key (Required)\n",
    "\n",
    "Create a free account on Stability AI, get an API key, and set it here (or use an environment variable)."
   ],
   "id": "c03e5afbe9411a69"
  },
  {
   "metadata": {},
   "cell_type": "code",
   "outputs": [],
   "execution_count": null,
   "source": [
    "import os\n",
    "\n",
    "# Option 1: set directly (not recommended for shared notebooks)\n",
    "STABILITY_API_KEY = \"YOUR_STABILITY_API_KEY_HERE\"\n",
    "\n",
    "# Option 2 (recommended): read from environment\n",
    "# STABILITY_API_KEY = os.getenv(\"STABILITY_API_KEY\")\n",
    "\n",
    "if not STABILITY_API_KEY or STABILITY_API_KEY == \"YOUR_STABILITY_API_KEY_HERE\":\n",
    "    raise ValueError(\"Please set STABILITY_API_KEY to your actual key before running.\")"
   ],
   "id": "28addb5d4c03ff35"
  },
  {
   "metadata": {},
   "cell_type": "markdown",
   "source": [
    "### ✍️ Define Prompt & Generation Settings\n",
    "\n",
    "Tweak width/height, steps, and guidance for style/quality."
   ],
   "id": "ce755e54c5d2466d"
  },
  {
   "metadata": {},
   "cell_type": "code",
   "outputs": [],
   "execution_count": null,
   "source": [
    "# Your creative prompt\n",
    "prompt = \"a cozy reading nook with plants, warm sunlight, and a cat sleeping on a chair, cinematic, ultra-detailed\"\n",
    "\n",
    "# Optional negative prompt to avoid unwanted elements\n",
    "negative_prompt = \"blurry, low-res, text, watermark, logo, distorted\"\n",
    "\n",
    "# Image settings (SDXL 1024 works best with 1024x1024)\n",
    "width, height = 1024, 1024\n",
    "steps = 30\n",
    "cfg_scale = 7.5\n",
    "sampler = \"K_DPM_2_ANCESTRAL\"  # or \"K_EULER\", \"K_DPM_2\", etc.\n",
    "output_path = \"sdxl_output.png\""
   ],
   "id": "e115ac7bca7f5014"
  },
  {
   "metadata": {},
   "cell_type": "markdown",
   "source": [
    "### 🚀 Call the Stability AI Text-to-Image Endpoint\n",
    "\n",
    "We’ll use Stable Diffusion XL. The API returns PNG bytes which we write to disk."
   ],
   "id": "d0148c121722c8f8"
  },
  {
   "metadata": {},
   "cell_type": "code",
   "outputs": [],
   "execution_count": null,
   "source": [
    "import requests\n",
    "\n",
    "# SDXL text-to-image endpoint (model name may vary by plan/region)\n",
    "endpoint = \"https://api.stability.ai/v1/generation/stable-diffusion-xl-1024-v1-0/text-to-image\"\n",
    "\n",
    "headers = {\n",
    "    \"Authorization\": f\"Bearer {STABILITY_API_KEY}\",\n",
    "    \"Accept\": \"image/png\",\n",
    "}\n",
    "\n",
    "data = {\n",
    "    \"prompt\": prompt,\n",
    "    \"negative_prompt\": negative_prompt,\n",
    "    \"width\": width,\n",
    "    \"height\": height,\n",
    "    \"steps\": steps,\n",
    "    \"cfg_scale\": cfg_scale,\n",
    "    \"sampler\": sampler,\n",
    "    \"output_format\": \"png\",\n",
    "}\n",
    "\n",
    "response = requests.post(endpoint, headers=headers, data=data, timeout=120)\n",
    "\n",
    "if response.status_code == 200:\n",
    "    with open(output_path, \"wb\") as f:\n",
    "        f.write(response.content)\n",
    "    print(f\"✅ Image saved to: {output_path}\")\n",
    "else:\n",
    "    print(\"❌ Generation failed\")\n",
    "    print(\"Status:\", response.status_code)\n",
    "    try:\n",
    "        print(\"Response:\", response.json())\n",
    "    except Exception:\n",
    "        print(\"Response (raw):\", response.text[:500])"
   ],
   "id": "d7768264705a278c"
  },
  {
   "metadata": {},
   "cell_type": "markdown",
   "source": [
    "### 🖼️ Preview in Notebook (Passport-Size)\n",
    "\n",
    "Show a small preview without altering the saved file."
   ],
   "id": "a891ba06c8fc9cf6"
  },
  {
   "metadata": {},
   "cell_type": "code",
   "outputs": [],
   "execution_count": null,
   "source": [
    "from PIL import Image\n",
    "import matplotlib.pyplot as plt\n",
    "\n",
    "img = Image.open(output_path)\n",
    "\n",
    "plt.figure(figsize=(2, 2))  # ~passport-size in notebook\n",
    "plt.imshow(img)\n",
    "plt.axis(\"off\")\n",
    "plt.title(\"SDXL Preview\")\n",
    "plt.show()"
   ],
   "id": "8c02ce1a8a903169"
  },
  {
   "metadata": {},
   "cell_type": "markdown",
   "source": [
    "### 📝 Notes & Tips\n",
    "- **API Key**: Required. Keep it secret and never commit to GitHub.\n",
    "- **Resolution**: SDXL likes 1024×1024. Use smaller sizes if you hit quotas.\n",
    "- **Content Filter**: The API enforces safety filters; some prompts may be blocked.\n",
    "- **Style Control**: Increase cfg_scale for tighter adherence to the prompt; adjust sampler and steps for quality/speed.\n",
    "- **Batching**: You can send multiple prompts or samples per request (subject to plan/limits)."
   ],
   "id": "90a47fa034fb86db"
  },
  {
   "metadata": {},
   "cell_type": "code",
   "outputs": [],
   "execution_count": null,
   "source": "",
   "id": "258825ced7ac6ce3"
  }
 ],
 "metadata": {
  "kernelspec": {
   "display_name": "Python 3",
   "language": "python",
   "name": "python3"
  },
  "language_info": {
   "codemirror_mode": {
    "name": "ipython",
    "version": 2
   },
   "file_extension": ".py",
   "mimetype": "text/x-python",
   "name": "python",
   "nbconvert_exporter": "python",
   "pygments_lexer": "ipython2",
   "version": "2.7.6"
  }
 },
 "nbformat": 4,
 "nbformat_minor": 5
}
