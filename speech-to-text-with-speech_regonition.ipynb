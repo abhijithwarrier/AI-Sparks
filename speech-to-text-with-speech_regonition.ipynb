{
 "cells": [
  {
   "cell_type": "markdown",
   "id": "bbcbfdadc567829a",
   "metadata": {
    "collapsed": true,
    "jupyter": {
     "outputs_hidden": true
    }
   },
   "source": [
    "**Programmer:** python_scripts (Abhijith Warrier)\n",
    "\n",
    "**PYTHON SCRIPT TO **_CONVERT SPEECH TO TEXT LOCALLY USING SpeechRecognition + POCKETSPHINX_**. 🐍🤖🎵**\n",
    "\n",
    "This script shows how to transcribe audio offline on your machine using the `SpeechRecognition` library with the `PocketSphinx` engine (no internet, no API keys). We’ll transcribe from a WAV file and include a short microphone example."
   ]
  },
  {
   "cell_type": "markdown",
   "id": "b671f5a8305eeec5",
   "metadata": {},
   "source": [
    "### 📦 Install Required Library\n",
    "\n",
    "We use the `speechrecognition` library to handle speech-to-text conversion."
   ]
  },
  {
   "cell_type": "code",
   "execution_count": null,
   "id": "68b022c08bc7c966",
   "metadata": {},
   "outputs": [],
   "source": [
    "# Install SpeechRecognition\n",
    "!pip install SpeechRecognition"
   ]
  },
  {
   "cell_type": "markdown",
   "id": "5f65ba676b64112c",
   "metadata": {},
   "source": [
    "### 📝 Import the Library\n",
    "\n",
    "Import the `speech_recognition` module and create a recognizer instance."
   ]
  },
  {
   "cell_type": "code",
   "execution_count": 1,
   "id": "25807ab5a007a039",
   "metadata": {
    "ExecuteTime": {
     "end_time": "2025-08-16T14:17:59.098198Z",
     "start_time": "2025-08-16T14:17:59.093311Z"
    }
   },
   "outputs": [],
   "source": [
    "import speech_recognition as sr\n",
    "\n",
    "# Initialize recognizer\n",
    "recognizer = sr.Recognizer()"
   ]
  },
  {
   "cell_type": "markdown",
   "id": "cdd0873ffdf9de05",
   "metadata": {},
   "source": [
    "### 🎵 Load an Audio File\n",
    "\n",
    "We’ll use a .wav file as input. Replace \"sample_hello.wav\" with your file path."
   ]
  },
  {
   "cell_type": "code",
   "execution_count": 2,
   "id": "e672adee68ef2503",
   "metadata": {
    "ExecuteTime": {
     "end_time": "2025-08-16T14:18:00.609231Z",
     "start_time": "2025-08-16T14:18:00.603892Z"
    }
   },
   "outputs": [],
   "source": [
    "# Load the audio file\n",
    "with sr.AudioFile(\"test-resources/sample-hello.wav\") as source:\n",
    "    # Record the entire audio file\n",
    "    audio_data = recognizer.record(source)"
   ]
  },
  {
   "cell_type": "markdown",
   "id": "7f92fb64ea7aa73c",
   "metadata": {},
   "source": [
    "### 🗣️ Convert Speech to Text\n",
    "\n",
    "Use Google’s free speech recognizer to convert audio into text."
   ]
  },
  {
   "cell_type": "code",
   "execution_count": 3,
   "id": "8f78e3ee3a13df00",
   "metadata": {
    "ExecuteTime": {
     "end_time": "2025-08-16T14:18:06.567115Z",
     "start_time": "2025-08-16T14:18:02.461819Z"
    }
   },
   "outputs": [
    {
     "name": "stdout",
     "output_type": "stream",
     "text": [
      "Transcribed Text: hello this is an example\n"
     ]
    }
   ],
   "source": [
    "try:\n",
    "    # Convert the audio to text\n",
    "    text = recognizer.recognize_google(audio_data)\n",
    "    print(\"Transcribed Text:\", text)\n",
    "except sr.UnknownValueError:\n",
    "    # Speech was not understood\n",
    "    print(\"Sorry, could not understand the audio.\")\n",
    "except sr.RequestError as e:\n",
    "    # API or service error\n",
    "    print(f\"Error with the service: {e}\")"
   ]
  },
  {
   "cell_type": "code",
   "execution_count": null,
   "id": "df764d5fb34b949b",
   "metadata": {},
   "outputs": [],
   "source": []
  }
 ],
 "metadata": {
  "kernelspec": {
   "display_name": "Python 3 (ipykernel)",
   "language": "python",
   "name": "python3"
  },
  "language_info": {
   "codemirror_mode": {
    "name": "ipython",
    "version": 3
   },
   "file_extension": ".py",
   "mimetype": "text/x-python",
   "name": "python",
   "nbconvert_exporter": "python",
   "pygments_lexer": "ipython3",
   "version": "3.11.9"
  }
 },
 "nbformat": 4,
 "nbformat_minor": 5
}
