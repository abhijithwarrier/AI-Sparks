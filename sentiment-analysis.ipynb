{
 "cells": [
  {
   "cell_type": "markdown",
   "id": "dac4cce9ee56430e",
   "metadata": {},
   "source": [
    "**Programmer:** python_scripts (Abhijith Warrier)\n",
    "\n",
    "**PYTHON SCRIPT TO DEMONSTRATE **_SENTIMENT ANALYSIS with PRE-TRAINED PIPELINE_**. 🐍🤖**\n",
    "\n",
    "This script demonstrates how to quickly perform **sentiment analysis** using Hugging Face's pre-trained pipeline.\n",
    "No model training needed — just plug and play."
   ]
  },
  {
   "cell_type": "code",
   "execution_count": 1,
   "id": "2e0aa6ebe79fdd21",
   "metadata": {
    "ExecuteTime": {
     "end_time": "2025-08-06T19:29:06.297342Z",
     "start_time": "2025-08-06T19:29:06.295038Z"
    }
   },
   "outputs": [],
   "source": [
    "# Install Hugging Face Transformers (if not already installed)\n",
    "# %pip install transformers"
   ]
  },
  {
   "cell_type": "markdown",
   "id": "caa3e0be74fce677",
   "metadata": {},
   "source": [
    "### ⚙️ Import Pipeline\n",
    "The `pipeline` function from Transformers allows us to use **pre-trained models** for various NLP tasks."
   ]
  },
  {
   "cell_type": "code",
   "execution_count": 1,
   "id": "633b7a7db94341a8",
   "metadata": {
    "ExecuteTime": {
     "end_time": "2025-08-07T04:29:46.410970Z",
     "start_time": "2025-08-07T04:29:45.632048Z"
    }
   },
   "outputs": [
    {
     "name": "stderr",
     "output_type": "stream",
     "text": [
      "Device set to use mps:0\n"
     ]
    }
   ],
   "source": [
    "from transformers import pipeline\n",
    "\n",
    "# Load sentiment-analysis pipelinepip install --upgrade keras==3.5.0\n",
    "sentiment_pipeline = pipeline(\"sentiment-analysis\", model=\"distilbert-base-uncased-finetuned-sst-2-english\")"
   ]
  },
  {
   "cell_type": "markdown",
   "id": "18ba86696f73ff80",
   "metadata": {},
   "source": [
    "### 📄 Run Sentiment Analysis on Different Sentences\n",
    "We'll test **positive**, **negative**, and **neutral-like** sentences."
   ]
  },
  {
   "cell_type": "code",
   "execution_count": 2,
   "id": "13f8b9b9ccebcb39",
   "metadata": {
    "ExecuteTime": {
     "end_time": "2025-08-07T04:29:48.269957Z",
     "start_time": "2025-08-07T04:29:48.067481Z"
    }
   },
   "outputs": [
    {
     "name": "stdout",
     "output_type": "stream",
     "text": [
      "[{'label': 'POSITIVE', 'score': 0.9993845224380493}]\n",
      "[{'label': 'NEGATIVE', 'score': 0.978280782699585}]\n",
      "[{'label': 'POSITIVE', 'score': 0.952190637588501}]\n"
     ]
    }
   ],
   "source": [
    "# Analyze sentiment\n",
    "# Positive sentiment\n",
    "print(sentiment_pipeline(\"I love learning Python and AI!\"))\n",
    "\n",
    "# Negative sentiment\n",
    "print(sentiment_pipeline(\"I hate getting errors while coding.\"))\n",
    "\n",
    "# Neutral-like sentiment (may still lean positive or negative)\n",
    "print(sentiment_pipeline(\"The weather is average today.\"))"
   ]
  },
  {
   "cell_type": "markdown",
   "id": "6a5a430a8b12968f",
   "metadata": {},
   "source": [
    "> **Note**:\n",
    "> This default model is trained on **SST-2** (binary classification).\n",
    "> It only predicts **POSITIVE** or **NEGATIVE**.\n",
    "> Neutral sentences may still lean slightly toward positive or negative."
   ]
  },
  {
   "cell_type": "code",
   "execution_count": null,
   "id": "26ccdabec66fe6c",
   "metadata": {},
   "outputs": [],
   "source": []
  }
 ],
 "metadata": {
  "kernelspec": {
   "display_name": "Python 3 (ipykernel)",
   "language": "python",
   "name": "python3"
  },
  "language_info": {
   "codemirror_mode": {
    "name": "ipython",
    "version": 3
   },
   "file_extension": ".py",
   "mimetype": "text/x-python",
   "name": "python",
   "nbconvert_exporter": "python",
   "pygments_lexer": "ipython3",
   "version": "3.11.9"
  }
 },
 "nbformat": 4,
 "nbformat_minor": 5
}
