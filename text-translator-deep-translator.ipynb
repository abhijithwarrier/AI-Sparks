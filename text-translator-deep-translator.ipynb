{
 "cells": [
  {
   "cell_type": "markdown",
   "id": "892a74b75dc0a092",
   "metadata": {
    "collapsed": true,
    "jupyter": {
     "outputs_hidden": true
    }
   },
   "source": [
    "**Programmer:** python_scripts (Abhijith Warrier)\n",
    "\n",
    "**PYTHON SCRIPT TO **_TRANSLATE TEXT INTO MULTIPLE LANGUAGES WITHOUT USING ANY API KEY_**. 🐍🌍🤖**\n",
    "\n",
    "This script demonstrates how to translate any text into your desired language using the `deep-translator` library. It’s quick, requires no API key, and supports multiple translation providers."
   ]
  },
  {
   "cell_type": "markdown",
   "id": "86edc968a5b153a",
   "metadata": {},
   "source": [
    "### 📦 Install Required Library\n",
    "We use `deep-translator` for easy translations without authentication."
   ]
  },
  {
   "cell_type": "code",
   "execution_count": null,
   "id": "27a16da44a0e8876",
   "metadata": {},
   "outputs": [],
   "source": [
    "# Install deep-translator\n",
    "!pip install deep-translator"
   ]
  },
  {
   "cell_type": "markdown",
   "id": "5a62149a759d2ac5",
   "metadata": {},
   "source": [
    "### 📝 Import the Translator Class\n",
    "\n",
    "We’ll use GoogleTranslator from `deep_translator`."
   ]
  },
  {
   "cell_type": "code",
   "execution_count": 1,
   "id": "862fea36331c34bb",
   "metadata": {
    "ExecuteTime": {
     "end_time": "2025-08-13T14:37:07.301262Z",
     "start_time": "2025-08-13T14:37:07.198987Z"
    }
   },
   "outputs": [],
   "source": [
    "from deep_translator import GoogleTranslator"
   ]
  },
  {
   "cell_type": "markdown",
   "id": "c580f88efecfadab",
   "metadata": {},
   "source": [
    "### 🌐 Define the Translation\n",
    "Provide the source text and target language, then run the translation."
   ]
  },
  {
   "cell_type": "code",
   "execution_count": 2,
   "id": "1a2b2a1d60d56a03",
   "metadata": {
    "ExecuteTime": {
     "end_time": "2025-08-13T14:37:10.651696Z",
     "start_time": "2025-08-13T14:37:10.444436Z"
    }
   },
   "outputs": [
    {
     "name": "stdout",
     "output_type": "stream",
     "text": [
      "Translated Text: Bonjour comment allez-vous?\n"
     ]
    }
   ],
   "source": [
    "# Translate from English to French\n",
    "translated = GoogleTranslator(source='en', target='fr').translate(\"Hello, how are you?\")\n",
    "print(f\"Translated Text: {translated}\")"
   ]
  },
  {
   "cell_type": "markdown",
   "id": "8bef56ff64954ef1",
   "metadata": {},
   "source": [
    "### 🔄 Translate into Multiple Languages\n",
    "You can loop through a list of languages to translate into several at once."
   ]
  },
  {
   "cell_type": "code",
   "execution_count": 3,
   "id": "5ed55790b6bd40a6",
   "metadata": {
    "ExecuteTime": {
     "end_time": "2025-08-13T14:37:55.744317Z",
     "start_time": "2025-08-13T14:37:55.059700Z"
    }
   },
   "outputs": [
    {
     "name": "stdout",
     "output_type": "stream",
     "text": [
      "Text translated into:\n",
      "es: ¡Qué tengas un lindo día!\n",
      "de: Ich wünsche ihnen einen wunderbaren Tag!\n",
      "it: Vi auguro una buona giornata!\n"
     ]
    }
   ],
   "source": [
    "languages = ['es', 'de', 'it']  # Spanish, German, Italian\n",
    "print(\"Text translated into:\")\n",
    "for lang in languages:\n",
    "    result = GoogleTranslator(source='en', target=lang).translate(\"Have a great day!\")\n",
    "    print(f\"{lang}: {result}\")"
   ]
  },
  {
   "cell_type": "code",
   "execution_count": null,
   "id": "5b91927a9c52327c",
   "metadata": {},
   "outputs": [],
   "source": []
  }
 ],
 "metadata": {
  "kernelspec": {
   "display_name": "Python 3 (ipykernel)",
   "language": "python",
   "name": "python3"
  },
  "language_info": {
   "codemirror_mode": {
    "name": "ipython",
    "version": 3
   },
   "file_extension": ".py",
   "mimetype": "text/x-python",
   "name": "python",
   "nbconvert_exporter": "python",
   "pygments_lexer": "ipython3",
   "version": "3.11.9"
  }
 },
 "nbformat": 4,
 "nbformat_minor": 5
}
